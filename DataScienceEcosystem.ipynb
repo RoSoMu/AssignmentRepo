{
 "cells": [
  {
   "cell_type": "markdown",
   "id": "a17abee4-a29c-4a11-a282-444539a91cce",
   "metadata": {},
   "source": [
    "# Data Science Tools and Ecosystem"
   ]
  },
  {
   "cell_type": "markdown",
   "id": "df5a7766-5621-4ebe-8af8-0c780d872235",
   "metadata": {},
   "source": [
    "## In this notebook, Data Science Tools and Ecosystem are summarized."
   ]
  },
  {
   "cell_type": "markdown",
   "id": "ba508602-c080-4516-95fd-1ad71489cebb",
   "metadata": {},
   "source": [
    "**Objectives:**\n",
    "- List popular languages for Data Science\n",
    "- List common libraries used by Data Scientists\n",
    "- Create a table for common open-sourced Data Science Tools\n",
    "- Evaluate simple arithmetic expressions in Python\n"
   ]
  },
  {
   "cell_type": "markdown",
   "id": "17147c27-ba0b-4772-a5a1-09aeaca46498",
   "metadata": {},
   "source": [
    "### Some of the popular languages that Data Scientists use are:\n",
    "1. Python\n",
    "2. R\n",
    "3. Scala"
   ]
  },
  {
   "cell_type": "markdown",
   "id": "792b28bb-dd81-4f7a-ba04-542edea2194f",
   "metadata": {},
   "source": [
    "### Some of commonly used libraries used by Data Scientists include:\n",
    "1. Pandas\n",
    "2. Numpy\n",
    "3. Matplotlib"
   ]
  },
  {
   "cell_type": "markdown",
   "id": "3501ba0a-07a6-40f1-aec0-5dbebae4844a",
   "metadata": {},
   "source": [
    "### Data Science Tools table:\n",
    "\n",
    "|Data Science Tools|\n",
    "|------------------|\n",
    "|Jupyter Lab|\n",
    "|Anaconda|\n",
    "|GitHub|\n"
   ]
  },
  {
   "cell_type": "markdown",
   "id": "a0bc8771-a69f-47ec-92e1-08c34b326a98",
   "metadata": {},
   "source": [
    "### Below are a few examples of evaluating arithmetic expressions in Python"
   ]
  },
  {
   "cell_type": "code",
   "execution_count": 2,
   "id": "46dede29-b767-4921-9d52-5943277f6d7d",
   "metadata": {},
   "outputs": [
    {
     "data": {
      "text/plain": [
       "17"
      ]
     },
     "execution_count": 2,
     "metadata": {},
     "output_type": "execute_result"
    }
   ],
   "source": [
    "# This is a simple arithmetic expression to multiply then add integers\n",
    "(3*4)+5"
   ]
  },
  {
   "cell_type": "code",
   "execution_count": 3,
   "id": "28c044ff-31af-47d4-b4ec-df07241a550a",
   "metadata": {},
   "outputs": [
    {
     "name": "stdout",
     "output_type": "stream",
     "text": [
      "3.3333333333333335\n"
     ]
    }
   ],
   "source": [
    "# This will convert 200 minutes to hours by dividing by 60\n",
    "x = 200\n",
    "y = 60\n",
    "print(x/y)"
   ]
  },
  {
   "cell_type": "markdown",
   "id": "4a9b88c5-6c38-42c4-9025-29cfc7f44e44",
   "metadata": {},
   "source": [
    "## Author\n",
    "Soraya Rodríguez"
   ]
  },
  {
   "cell_type": "code",
   "execution_count": null,
   "id": "61003cd1-4416-43dd-879b-72fecfcc89e5",
   "metadata": {},
   "outputs": [],
   "source": []
  }
 ],
 "metadata": {
  "kernelspec": {
   "display_name": "Python 3 (ipykernel)",
   "language": "python",
   "name": "python3"
  },
  "language_info": {
   "codemirror_mode": {
    "name": "ipython",
    "version": 3
   },
   "file_extension": ".py",
   "mimetype": "text/x-python",
   "name": "python",
   "nbconvert_exporter": "python",
   "pygments_lexer": "ipython3",
   "version": "3.12.9"
  }
 },
 "nbformat": 4,
 "nbformat_minor": 5
}
